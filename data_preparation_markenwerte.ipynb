{
 "cells": [
  {
   "cell_type": "code",
   "execution_count": null,
   "metadata": {},
   "outputs": [],
   "source": [
    "import pandas as pd\n",
    "import numpy as np\n",
    "###Datei einlesen und auf den zweiten Reiter gehen\n",
    "data = pd.read_excel('Kopie von kw2040r_Awareness_P.xlsx', sheet_name = 1, header=None)\n",
    "data.rename(columns={0: 'SpalteA'}, inplace=True)\n",
    "### Herausfinden, welchen Zeilenindex die Zeilen mit Tab. #1 haben, um den oberen Frame zu erhalten\n",
    "tab_loc = data.loc[data.SpalteA.str.contains('Tab.*') == True,:].index.values\n",
    "### Herausfinden, welchen Zeilenindex die Zeilen mit Gewichtet mit Weight haben, um den unteren Frame zu erhalten\n",
    "keine_angabe_loc = data.loc[data.SpalteA.str.contains('Gewichtet mit WEIGHT') == True,:].index.values\n",
    "\n",
    "###Wie viele Tab Einträge gibt es?\n",
    "anzahl_frames = int(data.SpalteA.str.contains('Tab. #').sum())\n",
    "\n",
    "new_df = []\n",
    "x=0\n",
    "new_df = []\n",
    "new_dff = []\n",
    "df_T = []\n",
    "###Slicen mittels oberer und unterer Indizes\n",
    "###data.loc[tab_loc[7]:keine_angabe_loc[7],:]\n",
    "###Funktion, welche mir entsprechend der Anzahl die Frames zurecht schneidet\n",
    "### der erste Datenframe wird oben mit tab_loc[0] und unten mit keine_angabe_loc[0] begrenzt\n",
    "while (x < anzahl_frames):\n",
    "    ###Frage herausfiltern und speichern\n",
    "    frage = data.iloc[tab_loc[x]-3,0]\n",
    "    ###Erstellung neues Datenframes mit Schnittpunkten Tab und \"gewichtet mit\" für unten\n",
    "    pd.DataFrame(new_df.append(data.loc[tab_loc[x]:keine_angabe_loc[x],:]))\n",
    "    ###Löschen der ersten Zeile und der letzten 4\n",
    "    pd.DataFrame(new_dff.append(new_df[x].iloc[1:-4,:]))\n",
    "    ###Spalte und Zeilen getauscht mit .T und wieder in die Liste gehängt\n",
    "    pd.DataFrame(df_T.append(new_dff[x].T))\n",
    "    ###Header ersetzt durch die Überschriften und neue Überschrift Datum gesetzt und eine unnötige Spalte raus\n",
    "    header = list(df_T[x].iloc[0,:])\n",
    "    header[0] = 'Datum'\n",
    "    header[1] = 'raus'\n",
    "    df_T[x].columns = header\n",
    "    df_T[x].drop('SpalteA', axis=0, inplace=True)\n",
    "    df_T[x].drop('raus', axis=1, inplace=True)\n",
    "    ###Bereinigung Datum - durch bis ersetzt. Es sind rollierende Wochen, daher lohnt sich die umrechnung in to_date nicht\n",
    "    df_T[x].Datum.str.replace('-',' bis ', regex=True)\n",
    "    ### - ersetzt durch isnull 'NaN'\n",
    "    df_T[x].replace('-', np.nan, inplace=True)\n",
    "    df_T[x] = df_T[x].assign(Frage=frage) \n",
    "    x = x+1\n",
    "\n",
    "df_final = []\n",
    "y=0\n",
    "while (y < anzahl_frames):\n",
    "    save_columnnames_tmp = df_T[y].columns.tolist()\n",
    "    save_columnnames_slice = save_columnnames_tmp[1:-1]\n",
    "    df_final.append(df_T[y].melt(id_vars=['Datum', 'Frage'], value_vars=save_columnnames_slice, var_name='Anbieter'))\n",
    "    y = y+1\n",
    "df_excel = pd.DataFrame(pd.concat(df_final))\n",
    "df_excel.to_excel(\"RelevantSet1Choice_Markenwerte.xlsx\", sheet_name='Markenwerte bereinigt', index=False)  "
   ]
  }
 ],
 "metadata": {
  "kernelspec": {
   "display_name": "Python 3",
   "language": "python",
   "name": "python3"
  },
  "language_info": {
   "codemirror_mode": {
    "name": "ipython",
    "version": 3
   },
   "file_extension": ".py",
   "mimetype": "text/x-python",
   "name": "python",
   "nbconvert_exporter": "python",
   "pygments_lexer": "ipython3",
   "version": "3.7.6"
  }
 },
 "nbformat": 4,
 "nbformat_minor": 4
}
